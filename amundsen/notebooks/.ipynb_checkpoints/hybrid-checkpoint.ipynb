{
 "cells": [
  {
   "cell_type": "markdown",
   "id": "bc8bf6ed-41be-482e-8994-e583e94945cb",
   "metadata": {},
   "source": [
    "# Hybrid model\n",
    "We will start by loading the mesh from the previous simulation. We will then extrude this mesh and use it to solve equations that describe the connection to ice flow and fluidity in an effort to capture the temperature dependence of ice viscosity on ice flow."
   ]
  },
  {
   "cell_type": "code",
   "execution_count": 6,
   "id": "7bc81ec0-88cd-494f-9278-631bde9c6b7f",
   "metadata": {},
   "outputs": [],
   "source": [
    "import subprocess\n",
    "import numpy as np\n",
    "import matplotlib.pyplot as plt\n",
    "import matplotlib.colors\n",
    "import geojson\n",
    "import rasterio\n",
    "import pygmsh\n",
    "import firedrake\n",
    "from firedrake import Constant, sqrt, inner, grad, dx\n",
    "import icepack\n",
    "from icepack.constants import (\n",
    "    ice_density as ρ_I, gravity as g, weertman_sliding_law as m\n",
    ")"
   ]
  },
  {
   "cell_type": "code",
   "execution_count": 14,
   "id": "35d03acd-3267-40a2-b3ba-8ea08c8690ae",
   "metadata": {},
   "outputs": [
    {
     "ename": "KeyError",
     "evalue": "'mesh'",
     "output_type": "error",
     "traceback": [
      "\u001b[0;31m---------------------------------------------------------------------------\u001b[0m",
      "\u001b[0;31mKeyError\u001b[0m                                  Traceback (most recent call last)",
      "Cell \u001b[0;32mIn[14], line 3\u001b[0m\n\u001b[1;32m      1\u001b[0m filename \u001b[38;5;241m=\u001b[39m \u001b[38;5;124m'\u001b[39m\u001b[38;5;124mmodern_state.h5\u001b[39m\u001b[38;5;124m'\u001b[39m\n\u001b[1;32m      2\u001b[0m \u001b[38;5;28;01mwith\u001b[39;00m firedrake\u001b[38;5;241m.\u001b[39mCheckpointFile(filename, \u001b[38;5;124m\"\u001b[39m\u001b[38;5;124mr\u001b[39m\u001b[38;5;124m\"\u001b[39m) \u001b[38;5;28;01mas\u001b[39;00m checkpoint:\n\u001b[0;32m----> 3\u001b[0m         mesh \u001b[38;5;241m=\u001b[39m \u001b[43mcheckpoint\u001b[49m\u001b[38;5;241;43m.\u001b[39;49m\u001b[43mload_mesh\u001b[49m\u001b[43m(\u001b[49m\u001b[43mname\u001b[49m\u001b[38;5;241;43m=\u001b[39;49m\u001b[38;5;124;43m\"\u001b[39;49m\u001b[38;5;124;43mmesh\u001b[39;49m\u001b[38;5;124;43m\"\u001b[39;49m\u001b[43m)\u001b[49m\n\u001b[1;32m      4\u001b[0m         C \u001b[38;5;241m=\u001b[39m checkpoint\u001b[38;5;241m.\u001b[39mload_function(mesh, name\u001b[38;5;241m=\u001b[39m\u001b[38;5;124m\"\u001b[39m\u001b[38;5;124mfriction\u001b[39m\u001b[38;5;124m\"\u001b[39m)\n\u001b[1;32m      5\u001b[0m         u \u001b[38;5;241m=\u001b[39m checkpoint\u001b[38;5;241m.\u001b[39mload_function(mesh, name\u001b[38;5;241m=\u001b[39m\u001b[38;5;124m\"\u001b[39m\u001b[38;5;124mvelocity\u001b[39m\u001b[38;5;124m\"\u001b[39m)\n",
      "File \u001b[0;32mpetsc4py/PETSc/Log.pyx:188\u001b[0m, in \u001b[0;36mpetsc4py.PETSc.Log.EventDecorator.decorator.wrapped_func\u001b[0;34m()\u001b[0m\n",
      "File \u001b[0;32mpetsc4py/PETSc/Log.pyx:189\u001b[0m, in \u001b[0;36mpetsc4py.PETSc.Log.EventDecorator.decorator.wrapped_func\u001b[0;34m()\u001b[0m\n",
      "File \u001b[0;32m~/firedrake/src/firedrake/firedrake/checkpointing.py:886\u001b[0m, in \u001b[0;36mCheckpointFile.load_mesh\u001b[0;34m(self, name, reorder, distribution_parameters)\u001b[0m\n\u001b[1;32m    876\u001b[0m \u001b[38;5;129m@PETSc\u001b[39m\u001b[38;5;241m.\u001b[39mLog\u001b[38;5;241m.\u001b[39mEventDecorator(\u001b[38;5;124m\"\u001b[39m\u001b[38;5;124mLoadMesh\u001b[39m\u001b[38;5;124m\"\u001b[39m)\n\u001b[1;32m    877\u001b[0m \u001b[38;5;28;01mdef\u001b[39;00m \u001b[38;5;21mload_mesh\u001b[39m(\u001b[38;5;28mself\u001b[39m, name\u001b[38;5;241m=\u001b[39mDEFAULT_MESH_NAME, reorder\u001b[38;5;241m=\u001b[39m\u001b[38;5;28;01mNone\u001b[39;00m, distribution_parameters\u001b[38;5;241m=\u001b[39m\u001b[38;5;28;01mNone\u001b[39;00m):\n\u001b[1;32m    878\u001b[0m \u001b[38;5;250m    \u001b[39m\u001b[38;5;124mr\u001b[39m\u001b[38;5;124;03m\"\"\"Load a mesh.\u001b[39;00m\n\u001b[1;32m    879\u001b[0m \n\u001b[1;32m    880\u001b[0m \u001b[38;5;124;03m    :arg name: the name of the mesh to load (default to :obj:`~.DEFAULT_MESH_NAME`).\u001b[39;00m\n\u001b[0;32m   (...)\u001b[0m\n\u001b[1;32m    884\u001b[0m \u001b[38;5;124;03m    :returns: the loaded mesh.\u001b[39;00m\n\u001b[1;32m    885\u001b[0m \u001b[38;5;124;03m    \"\"\"\u001b[39;00m\n\u001b[0;32m--> 886\u001b[0m     tmesh_name \u001b[38;5;241m=\u001b[39m \u001b[38;5;28;43mself\u001b[39;49m\u001b[38;5;241;43m.\u001b[39;49m\u001b[43m_get_mesh_name_topology_name_map\u001b[49m\u001b[43m(\u001b[49m\u001b[43m)\u001b[49m\u001b[43m[\u001b[49m\u001b[43mname\u001b[49m\u001b[43m]\u001b[49m\n\u001b[1;32m    887\u001b[0m     path \u001b[38;5;241m=\u001b[39m \u001b[38;5;28mself\u001b[39m\u001b[38;5;241m.\u001b[39m_path_to_topology_extruded(tmesh_name)\n\u001b[1;32m    888\u001b[0m     \u001b[38;5;28;01mif\u001b[39;00m path \u001b[38;5;129;01min\u001b[39;00m \u001b[38;5;28mself\u001b[39m\u001b[38;5;241m.\u001b[39mh5pyfile:\n\u001b[1;32m    889\u001b[0m         \u001b[38;5;66;03m# -- Load mesh topology --\u001b[39;00m\n",
      "\u001b[0;31mKeyError\u001b[0m: 'mesh'"
     ]
    }
   ],
   "source": [
    "filename = 'modern_state.h5'\n",
    "with firedrake.CheckpointFile(filename, \"r\") as checkpoint:\n",
    "        mesh = checkpoint.load_mesh(name=\"mesh\")\n",
    "        C = checkpoint.load_function(mesh, name=\"friction\")\n",
    "        u = checkpoint.load_function(mesh, name=\"velocity\")\n",
    "        h= checkpoint.load_function(mesh, name=\"thickness\")\n"
   ]
  },
  {
   "cell_type": "code",
   "execution_count": null,
   "id": "e7412d9c-5c3c-422a-83e7-caf281ef90c1",
   "metadata": {},
   "outputs": [],
   "source": [
    "mesh3d = firedrake.ExtrudedMesh(mesh, 1)\n",
    "Qc = firedrake.FunctionSpace(\n",
    "    mesh3d, family='CG', degree=2, vfamily='R', vdegree=0\n",
    ")\n",
    "C = icepack.lift3d(C, Qc)\n",
    "h = icepack.lift3d(h, Qc)\n",
    "s = icepack.lift3d(s, Qc)\n",
    "σx = icepack.lift3d(firedrake.interpolate(firedrake.Constant(5),Q), Qc)\n",
    "σy = icepack.lift3d(firedrake.interpolate(firedrake.Constant(5),Q), Qc)"
   ]
  },
  {
   "cell_type": "code",
   "execution_count": null,
   "id": "57204aae-84d3-457b-a14e-e0b42a7cc6c7",
   "metadata": {},
   "outputs": [],
   "source": [
    "V0 = firedrake.VectorFunctionSpace(\n",
    "    mesh3d, dim=2, family='CG', degree=2, vfamily='R', vdegree=0\n",
    ")\n",
    "u0 = icepack.lift3d(u, V0)\n",
    "u_obs = icepack.lift3d(u_obs, V0)"
   ]
  },
  {
   "cell_type": "code",
   "execution_count": null,
   "id": "69265faa-2e7e-40f8-b081-97544bb5bdc6",
   "metadata": {},
   "outputs": [],
   "source": [
    "V2 = firedrake.VectorFunctionSpace(\n",
    "    mesh3d, dim=2, family='CG', degree=2, vfamily='R', vdegree=0\n",
    ")\n",
    "u0 = icepack.lift3d(u, V0)\n",
    "u_obs = icepack.lift3d(u_obs, V0)"
   ]
  },
  {
   "cell_type": "code",
   "execution_count": null,
   "id": "91e0c729-7864-429c-9364-36e77aa58384",
   "metadata": {},
   "outputs": [],
   "source": [
    "def hybrid_friction(**kwargs):\n",
    "    u = kwargs[\"velocity\"]\n",
    "    θ = kwargs[\"log_friction\"]\n",
    "    C = C_0 * firedrake.exp(θ)\n",
    "    return icepack.models.hybrid.bed_friction(velocity=u, friction=C)"
   ]
  },
  {
   "cell_type": "code",
   "execution_count": null,
   "id": "014c1fed-47dc-42a1-83d5-05c9e9de3fbf",
   "metadata": {},
   "outputs": [],
   "source": [
    "hybrid_flow_model = icepack.models.HybridModel(friction=hybrid_friction)"
   ]
  },
  {
   "cell_type": "code",
   "execution_count": null,
   "id": "6e20ff97-dab0-46d3-b90b-fbaca7a78fdc",
   "metadata": {},
   "outputs": [],
   "source": [
    "opts = {\n",
    "    'dirichlet_ids': [1, 2, 3, 4, 5],\n",
    "    'diagnostic_solver_type': 'petsc',\n",
    "    'diagnostic_solver_parameters': {\n",
    "        'snes_type': 'newtontr',\n",
    "        'pc_type': 'lu',\n",
    "        'pc_factor_mat_solver_type': 'mumps'\n",
    "    }\n",
    "}\n",
    "hybrid_flow_solver = icepack.solvers.FlowSolver(hybrid_flow_model, **opts)"
   ]
  },
  {
   "cell_type": "code",
   "execution_count": null,
   "id": "1f58a4f8-38dd-4d48-b878-34a59e53fb9a",
   "metadata": {},
   "outputs": [],
   "source": [
    "u = hybrid_flow_solver.diagnostic_solve(\n",
    "    velocity=u_initial,\n",
    "    thickness=h,\n",
    "    surface=s,\n",
    "    fluidity=A,\n",
    "    log_friction=q\n",
    ")"
   ]
  },
  {
   "cell_type": "code",
   "execution_count": null,
   "id": "3c7e085b-a6a7-42fe-b06b-74311cf550a4",
   "metadata": {},
   "outputs": [],
   "source": [
    "P_0 = 1\n",
    "P_1 = np.sqrt(3) * (2 * ζ - 1)\n",
    "P_2 = np.sqrt(5) * (6 * ζ**2 - 6 * ζ + 1)\n",
    "\n",
    "weight = P_0 - np.sqrt(3) * P_1 + np.sqrt(5) * P_2\n",
    "u_b = icepack.depth_average(u, weight=weight)"
   ]
  },
  {
   "cell_type": "code",
   "execution_count": null,
   "id": "64ecc461-c501-4ac2-aeef-15308323a28d",
   "metadata": {},
   "outputs": [],
   "source": [
    "Q3d = firedrake.FunctionSpace(\n",
    "    mesh3d, family='CG', degree=2, vfamily='GLL', vdegree=2\n",
    ")\n",
    "heat_transport = icepack.models.HeatTransport3D()"
   ]
  },
  {
   "cell_type": "code",
   "execution_count": null,
   "id": "0cce20b4-547c-46ca-98cb-b49c0150acf9",
   "metadata": {},
   "outputs": [],
   "source": [
    "\n",
    "T = firedrake.interpolate(firedrake.Constant(260.0), Q3d)\n",
    "f = firedrake.interpolate(firedrake.Constant(0.0), Q3d)\n",
    "E = firedrake.interpolate(heat_transport.energy_density(T, f), Q3d)\n",
    "A = icepack.rate_factor(T)\n"
   ]
  }
 ],
 "metadata": {
  "kernelspec": {
   "display_name": "firedrake",
   "language": "python",
   "name": "firedrake"
  },
  "language_info": {
   "codemirror_mode": {
    "name": "ipython",
    "version": 3
   },
   "file_extension": ".py",
   "mimetype": "text/x-python",
   "name": "python",
   "nbconvert_exporter": "python",
   "pygments_lexer": "ipython3",
   "version": "3.8.10"
  }
 },
 "nbformat": 4,
 "nbformat_minor": 5
}
